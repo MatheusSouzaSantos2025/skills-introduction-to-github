{
 "cells": [
  {
   "cell_type": "code",
   "execution_count": null,
   "id": "6f8644ba-dc9d-4b59-951e-934ea9ce6986",
   "metadata": {},
   "outputs": [],
   "source": [
    "# Introduction to Data Science"
   ]
  },
  {
   "cell_type": "code",
   "execution_count": null,
   "id": "e1213aaf-66f4-4168-80ab-b8e05dc16455",
   "metadata": {},
   "outputs": [],
   "source": [
    "## Introduction\n",
    "\n",
    "This notebook presents basic concepts of data science, including languages, libraries, tools, simple arithmetic operations, and learning objectives.\n"
   ]
  },
  {
   "cell_type": "code",
   "execution_count": null,
   "id": "0ce4db60-12be-4b1a-a552-846a6a6c5681",
   "metadata": {},
   "outputs": [],
   "source": [
    "## Languages Used in Data Science\n",
    "\n",
    "- Python  \n",
    "- R  \n",
    "- SQL  \n",
    "- Julia  \n",
    "- Scala  \n"
   ]
  },
  {
   "cell_type": "code",
   "execution_count": null,
   "id": "3658be70-b67d-4dcb-af09-eb95f7186bf1",
   "metadata": {},
   "outputs": [],
   "source": [
    "## Popular Data Science Libraries\n",
    "\n",
    "- Pandas  \n",
    "- NumPy  \n",
    "- Matplotlib  \n",
    "- Scikit-learn  \n",
    "- TensorFlow  \n",
    "- Seaborn  \n"
   ]
  },
  {
   "cell_type": "code",
   "execution_count": null,
   "id": "819b0867-ea0e-4cd2-94fa-4cfb0da7bdd2",
   "metadata": {},
   "outputs": [],
   "source": [
    "## Data Science Tools\n",
    "\n",
    "| Tool              | Category               |\n",
    "|-------------------|------------------------|\n",
    "| Jupyter Notebook  | Development            |\n",
    "| RStudio           | Development            |\n",
    "| Apache Spark      | Data Processing        |\n",
    "| Tableau           | Data Visualization     |\n",
    "| GitHub            | Version Control        |\n"
   ]
  },
  {
   "cell_type": "code",
   "execution_count": null,
   "id": "25a648f7-5749-4b11-9de8-14aead3f1a13",
   "metadata": {},
   "outputs": [],
   "source": [
    "## Examples of Arithmetic Expressions\n",
    "\n",
    "- Addition: `5 + 3 = 8`  \n",
    "- Subtraction: `10 - 4 = 6`  \n",
    "- Multiplication: `6 * 7 = 42`  \n",
    "- Division: `20 / 4 = 5.0`  \n",
    "- Power: `2 ** 3 = 8`\n"
   ]
  },
  {
   "cell_type": "code",
   "execution_count": null,
   "id": "355ec3fe-8b17-46e7-aef8-2eddfa1a31e0",
   "metadata": {},
   "outputs": [],
   "source": [
    "# Multiplying and adding numbers\n",
    "a = 5\n",
    "b = 3\n",
    "multiplication = a * b\n",
    "addition = a + b\n",
    "\n",
    "print(\"Multiplication:\", multiplication)\n",
    "print(\"Addition:\", addition)\n"
   ]
  },
  {
   "cell_type": "code",
   "execution_count": null,
   "id": "a18b822c-57bc-43c2-aa58-ad6f75bfa1b1",
   "metadata": {},
   "outputs": [],
   "source": [
    "# Converting minutes to hours\n",
    "minutes = 150\n",
    "hours = minutes / 60\n",
    "\n",
    "print(\"Hours:\", hours)\n"
   ]
  },
  {
   "cell_type": "code",
   "execution_count": null,
   "id": "ea63628a-a45f-4c78-824e-848173ae9d41",
   "metadata": {},
   "outputs": [],
   "source": [
    "## Objectives\n",
    "\n",
    "- Understand the main components of data science  \n",
    "- Learn common programming languages and libraries  \n",
    "- Perform basic Python operations  \n",
    "- Develop familiarity with interactive notebooks\n"
   ]
  },
  {
   "cell_type": "code",
   "execution_count": null,
   "id": "65d324be-9974-4009-a3d0-5a771db52731",
   "metadata": {},
   "outputs": [],
   "source": [
    "**Author:** Matheus Souza Santos\n"
   ]
  }
 ],
 "metadata": {
  "kernelspec": {
   "display_name": "Python [conda env:base] *",
   "language": "python",
   "name": "conda-base-py"
  },
  "language_info": {
   "codemirror_mode": {
    "name": "ipython",
    "version": 3
   },
   "file_extension": ".py",
   "mimetype": "text/x-python",
   "name": "python",
   "nbconvert_exporter": "python",
   "pygments_lexer": "ipython3",
   "version": "3.12.7"
  }
 },
 "nbformat": 4,
 "nbformat_minor": 5
}
