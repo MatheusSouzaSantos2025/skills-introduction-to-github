{
 "cells": [
  {
   "cell_type": "code",
   "execution_count": null,
   "id": "8287d902-d844-4560-9aa6-e91ba74e8c39",
   "metadata": {},
   "outputs": [],
   "source": [
    "# Introdução à Ciência de Dados\n"
   ]
  },
  {
   "cell_type": "code",
   "execution_count": null,
   "id": "49539f1a-c195-40fa-b923-71b317ae5823",
   "metadata": {},
   "outputs": [],
   "source": [
    "## Introdução\n",
    "\n",
    "Este notebook apresenta conceitos básicos de ciência de dados, incluindo linguagens, bibliotecas, ferramentas, operações aritméticas simples e objetivos de estudo.\n"
   ]
  },
  {
   "cell_type": "code",
   "execution_count": null,
   "id": "cbdadada-7e53-4a71-8989-c2e30cab3b37",
   "metadata": {},
   "outputs": [],
   "source": [
    "## Linguagens Usadas na Ciência de Dados\n",
    "\n",
    "- Python  \n",
    "- R  \n",
    "- SQL  \n",
    "- Julia  \n",
    "- Scala  \n"
   ]
  },
  {
   "cell_type": "code",
   "execution_count": null,
   "id": "2feb37c0-0838-4bea-a209-98c661c91b3f",
   "metadata": {},
   "outputs": [],
   "source": [
    "## Bibliotecas Populares na Ciência de Dados\n",
    "\n",
    "- Pandas  \n",
    "- NumPy  \n",
    "- Matplotlib  \n",
    "- Scikit-learn  \n",
    "- TensorFlow  \n",
    "- Seaborn  \n"
   ]
  },
  {
   "cell_type": "code",
   "execution_count": null,
   "id": "fb3676c7-28c4-4cda-b986-c0fa75faa928",
   "metadata": {},
   "outputs": [],
   "source": [
    "## Ferramentas de Ciência de Dados\n",
    "\n",
    "| Ferramenta         | Categoria              |\n",
    "|--------------------|------------------------|\n",
    "| Jupyter Notebook   | Desenvolvimento        |\n",
    "| RStudio            | Desenvolvimento        |\n",
    "| Apache Spark       | Processamento de dados |\n",
    "| Tableau            | Visualização de dados  |\n",
    "| GitHub             | Controle de versão     |\n"
   ]
  },
  {
   "cell_type": "code",
   "execution_count": null,
   "id": "309fac8a-66a9-45ad-ab9f-92907ea5cdb6",
   "metadata": {},
   "outputs": [],
   "source": [
    "## Exemplos de Expressões Aritméticas\n",
    "\n",
    "- Adição: `5 + 3 = 8`  \n",
    "- Subtração: `10 - 4 = 6`  \n",
    "- Multiplicação: `6 * 7 = 42`  \n",
    "- Divisão: `20 / 4 = 5.0`  \n",
    "- Potência: `2 ** 3 = 8`\n"
   ]
  },
  {
   "cell_type": "code",
   "execution_count": null,
   "id": "270036e0-adc3-4fb2-b04e-d5300e5486c5",
   "metadata": {},
   "outputs": [],
   "source": [
    "# Multiplicando e somando números\n",
    "a = 5\n",
    "b = 3\n",
    "multiplicacao = a * b\n",
    "soma = a + b\n",
    "\n",
    "print(\"Multiplicação:\", multiplicacao)\n",
    "print(\"Soma:\", soma)\n"
   ]
  },
  {
   "cell_type": "code",
   "execution_count": null,
   "id": "61dd631c-bd1f-428c-a70b-3d929e48ebc1",
   "metadata": {},
   "outputs": [],
   "source": [
    "# Convertendo minutos em horas\n",
    "minutos = 150\n",
    "horas = minutos / 60\n",
    "\n",
    "print(\"Horas:\", horas)\n"
   ]
  },
  {
   "cell_type": "code",
   "execution_count": null,
   "id": "f24d3080-64bf-4194-ae75-58732b2d1826",
   "metadata": {},
   "outputs": [],
   "source": [
    "## Objetivos\n",
    "\n",
    "- Compreender os principais componentes da ciência de dados  \n",
    "- Conhecer linguagens e bibliotecas utilizadas  \n",
    "- Executar operações básicas com código Python  \n",
    "- Desenvolver familiaridade com notebooks interativos\n"
   ]
  },
  {
   "cell_type": "code",
   "execution_count": 2,
   "id": "855112e5-3931-477c-8310-e7e02337b990",
   "metadata": {},
   "outputs": [
    {
     "ename": "SyntaxError",
     "evalue": "invalid syntax (2152130898.py, line 1)",
     "output_type": "error",
     "traceback": [
      "\u001b[1;36m  Cell \u001b[1;32mIn[2], line 1\u001b[1;36m\u001b[0m\n\u001b[1;33m    **Autor:** Matheus Souza Santos.\u001b[0m\n\u001b[1;37m    ^\u001b[0m\n\u001b[1;31mSyntaxError\u001b[0m\u001b[1;31m:\u001b[0m invalid syntax\n"
     ]
    }
   ],
   "source": [
    "Autor: Matheus Souza Santos.\n"
   ]
  },
  {
   "cell_type": "code",
   "execution_count": null,
   "id": "45f0dda3-f201-44a9-9c3c-5bb6df931acd",
   "metadata": {},
   "outputs": [],
   "source": []
  }
 ],
 "metadata": {
  "kernelspec": {
   "display_name": "Python [conda env:base] *",
   "language": "python",
   "name": "conda-base-py"
  },
  "language_info": {
   "codemirror_mode": {
    "name": "ipython",
    "version": 3
   },
   "file_extension": ".py",
   "mimetype": "text/x-python",
   "name": "python",
   "nbconvert_exporter": "python",
   "pygments_lexer": "ipython3",
   "version": "3.12.7"
  }
 },
 "nbformat": 4,
 "nbformat_minor": 5
}
